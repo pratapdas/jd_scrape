{
  "nbformat": 4,
  "nbformat_minor": 0,
  "metadata": {
    "colab": {
      "name": "IR Project.ipynb",
      "provenance": [],
      "collapsed_sections": []
    },
    "kernelspec": {
      "name": "python3",
      "display_name": "Python 3"
    }
  },
  "cells": [
    {
      "cell_type": "markdown",
      "metadata": {
        "id": "ZE7mv9gCdsxm"
      },
      "source": [
        "# Importing the required libraries"
      ]
    },
    {
      "cell_type": "code",
      "metadata": {
        "id": "P89Sr7A_7P31"
      },
      "source": [
        "import requests\n",
        "import bs4\n",
        "from bs4 import BeautifulSoup\n",
        "import pandas as pd\n",
        "import time\n",
        "from tqdm import tqdm"
      ],
      "execution_count": 1,
      "outputs": []
    },
    {
      "cell_type": "markdown",
      "metadata": {
        "id": "8eHDJ7NfdzHg"
      },
      "source": [
        "# Methods to perform scraping\r\n",
        "\r\n",
        "The method names are self-explanatory. We are scraping Job Title, Company Name, Location, Salary, and Job Summary."
      ]
    },
    {
      "cell_type": "code",
      "metadata": {
        "id": "y3myVCte8CAb"
      },
      "source": [
        "def extract_job_title_from_result(soup): \n",
        "    jobs = []\n",
        "    for div in soup.find_all(name=\"div\", attrs={\"class\":\"row\"}):\n",
        "      for a in div.find_all(name=\"a\", attrs={\"class\":\"jobtitle\"}):\n",
        "        jobs.append(a[\"title\"])\n",
        "    return(jobs)\n",
        "\n",
        "def extract_company_from_result(soup): \n",
        "  companies = []\n",
        "  for div in soup.find_all(name=\"div\", attrs={\"class\":\"row\"}):\n",
        "    all_company = div.find_all(name=\"span\", attrs={\"class\":\"company\"})\n",
        "    for company in all_company:\n",
        "      companies.append(company.text.strip())    \n",
        "  return(companies)\n",
        "\n",
        "def extract_location_from_result(soup): \n",
        "  locations = []\n",
        "  spans = soup.findAll(\"span\", attrs={\"class\": \"location\"})\n",
        "  for span in spans:\n",
        "    locations.append(span.text)\n",
        "  return(locations)\n",
        "\n",
        "def extract_salary_from_result(soup): \n",
        "  salaries = []\n",
        "  for div in soup.find_all(name=\"div\", attrs={\"class\":\"row\"}):\n",
        "    try:\n",
        "      span = div.find(name=\"span\", attrs={\"class\":\"salaryText\"})\n",
        "      salaries.append(span.text.strip())\n",
        "    except:\n",
        "      salaries.append(\"Nothing_found\")\n",
        "  return(salaries)\n",
        "\n",
        "def extract_summary_from_result(soup): \n",
        "  summaries = []\n",
        "  divs = soup.findAll(\"div\", attrs={\"class\": \"summary\"})\n",
        "  for div in divs:\n",
        "    summaries.append(div.text.strip())\n",
        "  return(summaries)"
      ],
      "execution_count": null,
      "outputs": []
    },
    {
      "cell_type": "markdown",
      "metadata": {
        "id": "k9HktaB7eNEa"
      },
      "source": [
        "# Crawling & Scraping from indeed.in\r\n",
        "\r\n",
        "Here, we have performed the actual crawling and scraping. We crawled **indeed.in** for three different job roles, namely **Data Scientist**, **Machine Learning Engineer**, and **Deep Learning Engineer**."
      ]
    },
    {
      "cell_type": "code",
      "metadata": {
        "colab": {
          "base_uri": "https://localhost:8080/",
          "height": 603
        },
        "id": "JYBuB9HCjQwe",
        "outputId": "4f5d0bcc-7533-4634-a412-c8b24c54dc78"
      },
      "source": [
        "# storing the indexes of the search page url's\r\n",
        "search_page_list = []\r\n",
        "for i in range(0,1001,10):\r\n",
        "  search_page_list.append(i)\r\n",
        "\r\n",
        "# defining the lists to store respective data\r\n",
        "job_title_list = []\r\n",
        "company_list = []\r\n",
        "location_list = []\r\n",
        "salary_list = []\r\n",
        "summary_list = []\r\n",
        "\r\n",
        "# a list of three URL's for three job roles mentioned above.\r\n",
        "base_URL = [\"https://in.indeed.com/jobs?q=data+scientist&start=\", \"https://in.indeed.com/jobs?q=machine+learning+engineer&start=\", \"https://in.indeed.com/jobs?q=deep+learning+engineer&start=\"]\r\n",
        "\r\n",
        "for url in base_URL:\r\n",
        "  for page in tqdm(search_page_list):\r\n",
        "    URL = url + str(page)\r\n",
        "    page = requests.get(URL)\r\n",
        "    soup = BeautifulSoup(page.text, \"html.parser\")\r\n",
        "\r\n",
        "    job_title_list.extend(extract_job_title_from_result(soup))\r\n",
        "    company_list.extend(extract_company_from_result(soup))\r\n",
        "    location_list.extend(extract_location_from_result(soup))\r\n",
        "    salary_list.extend(extract_salary_from_result(soup))\r\n",
        "    summary_list.extend(extract_summary_from_result(soup))\r\n",
        "  \r\n",
        "\r\n",
        "column_list = [\"Job Title\", \"Company Name\", \"Location\", \"Salary\", \"Summary\"]\r\n",
        "\r\n",
        "data = pd.DataFrame(list(zip(job_title_list, company_list, location_list, salary_list, summary_list)), columns =column_list)\r\n",
        "\r\n",
        "data"
      ],
      "execution_count": 9,
      "outputs": [
        {
          "output_type": "stream",
          "text": [
            "100%|██████████| 101/101 [01:01<00:00,  1.63it/s]\n",
            "100%|██████████| 101/101 [01:27<00:00,  1.15it/s]\n",
            "100%|██████████| 101/101 [00:22<00:00,  4.46it/s]\n"
          ],
          "name": "stderr"
        },
        {
          "output_type": "execute_result",
          "data": {
            "text/html": [
              "<div>\n",
              "<style scoped>\n",
              "    .dataframe tbody tr th:only-of-type {\n",
              "        vertical-align: middle;\n",
              "    }\n",
              "\n",
              "    .dataframe tbody tr th {\n",
              "        vertical-align: top;\n",
              "    }\n",
              "\n",
              "    .dataframe thead th {\n",
              "        text-align: right;\n",
              "    }\n",
              "</style>\n",
              "<table border=\"1\" class=\"dataframe\">\n",
              "  <thead>\n",
              "    <tr style=\"text-align: right;\">\n",
              "      <th></th>\n",
              "      <th>Job Title</th>\n",
              "      <th>Company Name</th>\n",
              "      <th>Location</th>\n",
              "      <th>Salary</th>\n",
              "      <th>Summary</th>\n",
              "    </tr>\n",
              "  </thead>\n",
              "  <tbody>\n",
              "    <tr>\n",
              "      <th>0</th>\n",
              "      <td>Junior Data Scientist/ta</td>\n",
              "      <td>WSD Consultant</td>\n",
              "      <td>Gurgaon, Haryana</td>\n",
              "      <td>₹7,00,000 - ₹15,00,000 a year</td>\n",
              "      <td>These programs help them master data-driven de...</td>\n",
              "    </tr>\n",
              "    <tr>\n",
              "      <th>1</th>\n",
              "      <td>Data Scientist (Risk Analytics &amp; Modeling)</td>\n",
              "      <td>LoanXpress</td>\n",
              "      <td>Mumbai, Maharashtra</td>\n",
              "      <td>Nothing_found</td>\n",
              "      <td>Manage large loan level and borrower level dat...</td>\n",
              "    </tr>\n",
              "    <tr>\n",
              "      <th>2</th>\n",
              "      <td>Data Scientist</td>\n",
              "      <td>AI Engineer</td>\n",
              "      <td>Delhi, Delhi</td>\n",
              "      <td>₹17,000 - ₹25,000 a month</td>\n",
              "      <td>Ability to use data visualization tools to sho...</td>\n",
              "    </tr>\n",
              "    <tr>\n",
              "      <th>3</th>\n",
              "      <td>Data Scientist</td>\n",
              "      <td>NatWest Group</td>\n",
              "      <td>Gurgaon, Haryana</td>\n",
              "      <td>Nothing_found</td>\n",
              "      <td>Participating in the data community, you’ll id...</td>\n",
              "    </tr>\n",
              "    <tr>\n",
              "      <th>4</th>\n",
              "      <td>DATA SCIENTIST</td>\n",
              "      <td>Rockwell Automation</td>\n",
              "      <td>Pune, Maharashtra</td>\n",
              "      <td>Nothing_found</td>\n",
              "      <td>Experience implementing data science models in...</td>\n",
              "    </tr>\n",
              "    <tr>\n",
              "      <th>...</th>\n",
              "      <td>...</td>\n",
              "      <td>...</td>\n",
              "      <td>...</td>\n",
              "      <td>...</td>\n",
              "      <td>...</td>\n",
              "    </tr>\n",
              "    <tr>\n",
              "      <th>2990</th>\n",
              "      <td>Senior Analyst-DevOps Engineer-Hyderabad</td>\n",
              "      <td>Deloitte</td>\n",
              "      <td>Hyderabad, Telangana</td>\n",
              "      <td>Nothing_found</td>\n",
              "      <td>Who has cross-functional knowledge and deep ex...</td>\n",
              "    </tr>\n",
              "    <tr>\n",
              "      <th>2991</th>\n",
              "      <td>GPU Compiler Performance Engineer</td>\n",
              "      <td>Qualcomm India Private Limited</td>\n",
              "      <td>Bengaluru, Karnataka</td>\n",
              "      <td>Nothing_found</td>\n",
              "      <td>Experience with machine learning / deep learni...</td>\n",
              "    </tr>\n",
              "    <tr>\n",
              "      <th>2992</th>\n",
              "      <td>Senior Specialist - Analytics</td>\n",
              "      <td>Fidelity International</td>\n",
              "      <td>Gurgaon, Haryana</td>\n",
              "      <td>Nothing_found</td>\n",
              "      <td>Implementation of deep learning models with cl...</td>\n",
              "    </tr>\n",
              "    <tr>\n",
              "      <th>2993</th>\n",
              "      <td>Senior Software Engineer - SDN</td>\n",
              "      <td>Microsoft</td>\n",
              "      <td>Bengaluru, Karnataka</td>\n",
              "      <td>Nothing_found</td>\n",
              "      <td>Has passion for learning, be a faster learner....</td>\n",
              "    </tr>\n",
              "    <tr>\n",
              "      <th>2994</th>\n",
              "      <td>Data Scientist</td>\n",
              "      <td>MRoads</td>\n",
              "      <td>Hyderabad, Telangana</td>\n",
              "      <td>Nothing_found</td>\n",
              "      <td>Strong experience in building NLP and deep lea...</td>\n",
              "    </tr>\n",
              "  </tbody>\n",
              "</table>\n",
              "<p>2995 rows × 5 columns</p>\n",
              "</div>"
            ],
            "text/plain": [
              "                                       Job Title  ...                                            Summary\n",
              "0                       Junior Data Scientist/ta  ...  These programs help them master data-driven de...\n",
              "1     Data Scientist (Risk Analytics & Modeling)  ...  Manage large loan level and borrower level dat...\n",
              "2                                 Data Scientist  ...  Ability to use data visualization tools to sho...\n",
              "3                                 Data Scientist  ...  Participating in the data community, you’ll id...\n",
              "4                                 DATA SCIENTIST  ...  Experience implementing data science models in...\n",
              "...                                          ...  ...                                                ...\n",
              "2990    Senior Analyst-DevOps Engineer-Hyderabad  ...  Who has cross-functional knowledge and deep ex...\n",
              "2991           GPU Compiler Performance Engineer  ...  Experience with machine learning / deep learni...\n",
              "2992               Senior Specialist - Analytics  ...  Implementation of deep learning models with cl...\n",
              "2993              Senior Software Engineer - SDN  ...  Has passion for learning, be a faster learner....\n",
              "2994                              Data Scientist  ...  Strong experience in building NLP and deep lea...\n",
              "\n",
              "[2995 rows x 5 columns]"
            ]
          },
          "metadata": {
            "tags": []
          },
          "execution_count": 9
        }
      ]
    },
    {
      "cell_type": "code",
      "metadata": {
        "id": "TpnrADE_cmpr"
      },
      "source": [
        "# Storing the output as a csv file\r\n",
        "data.to_csv(\"indeed_jobs.csv\")"
      ],
      "execution_count": 10,
      "outputs": []
    }
  ]
}